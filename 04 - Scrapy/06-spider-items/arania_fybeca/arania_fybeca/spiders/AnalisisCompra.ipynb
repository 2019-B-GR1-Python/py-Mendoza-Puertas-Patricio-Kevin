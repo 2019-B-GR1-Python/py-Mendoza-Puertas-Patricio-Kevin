{
 "cells": [
  {
   "cell_type": "code",
   "execution_count": 1,
   "metadata": {},
   "outputs": [],
   "source": [
    "import pandas as pd"
   ]
  },
  {
   "cell_type": "code",
   "execution_count": 2,
   "metadata": {},
   "outputs": [],
   "source": [
    "#path del csv creado\n",
    "path_csv = \"C://Users//kevme//Documents//GitHub//py-Mendoza-Puertas-Patricio-Kevin//04 - Scrapy//06-spider-items//arania_fybeca//arania_fybeca//spiders//tmp//productos-fybeca.csv\"\n",
    "df = pd.read_csv(path_csv,  encoding = 'unicode_escape',sep = \",\")"
   ]
  },
  {
   "cell_type": "code",
   "execution_count": 3,
   "metadata": {},
   "outputs": [],
   "source": [
    "# Ahorro por la compre con tarjeta fybeca\n",
    "df['ahorro'] = df['precio_normal'] - df['precio_descuento']\n",
    "ahorroCompra = df['ahorro'].sum()\n",
    "descuentoTotal = df['ahorro'].max()\n",
    "descuetoMinimo = df['ahorro'].min()"
   ]
  },
  {
   "cell_type": "code",
   "execution_count": 4,
   "metadata": {},
   "outputs": [
    {
     "name": "stdout",
     "output_type": "stream",
     "text": [
      "Precio con el descuento maximo :  4.35\n"
     ]
    }
   ],
   "source": [
    "#ver calculo descuento Total\n",
    "print(\"Precio con el descuento maximo : \",descuentoTotal)"
   ]
  },
  {
   "cell_type": "code",
   "execution_count": 5,
   "metadata": {},
   "outputs": [
    {
     "name": "stdout",
     "output_type": "stream",
     "text": [
      "Precio con el descuento minimo :  0.2400000000000002\n"
     ]
    }
   ],
   "source": [
    "#ver calculo descuento minimo\n",
    "print('Precio con el descuento minimo : ', descuetoMinimo)"
   ]
  },
  {
   "cell_type": "code",
   "execution_count": 6,
   "metadata": {},
   "outputs": [
    {
     "name": "stdout",
     "output_type": "stream",
     "text": [
      "Ahorro por compra con tarjeta :  36.64\n"
     ]
    }
   ],
   "source": [
    "#Ahorro por la compra con tareta\n",
    "print('Ahorro por compra con tarjeta : ', ahorroCompra)"
   ]
  },
  {
   "cell_type": "code",
   "execution_count": null,
   "metadata": {},
   "outputs": [],
   "source": []
  }
 ],
 "metadata": {
  "kernelspec": {
   "display_name": "Python 3",
   "language": "python",
   "name": "python3"
  },
  "language_info": {
   "codemirror_mode": {
    "name": "ipython",
    "version": 3
   },
   "file_extension": ".py",
   "mimetype": "text/x-python",
   "name": "python",
   "nbconvert_exporter": "python",
   "pygments_lexer": "ipython3",
   "version": "3.7.3"
  }
 },
 "nbformat": 4,
 "nbformat_minor": 2
}
