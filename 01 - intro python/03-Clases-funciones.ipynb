{
 "cells": [
  {
   "cell_type": "code",
   "execution_count": 1,
   "metadata": {},
   "outputs": [
    {
     "data": {
      "text/plain": [
       "4"
      ]
     },
     "execution_count": 1,
     "metadata": {},
     "output_type": "execute_result"
    }
   ],
   "source": [
    "def elevar_al_cuadrado(numero):\n",
    "    return numero * numero\n",
    "elevar_al_cuadrado(2)"
   ]
  },
  {
   "cell_type": "code",
   "execution_count": 2,
   "metadata": {},
   "outputs": [
    {
     "data": {
      "text/plain": [
       "4"
      ]
     },
     "execution_count": 2,
     "metadata": {},
     "output_type": "execute_result"
    }
   ],
   "source": [
    "elevar_al_cuadrado_lambda = lambda numero : numero * numero\n",
    "elevar_al_cuadrado_lambda(2)"
   ]
  },
  {
   "cell_type": "code",
   "execution_count": 9,
   "metadata": {},
   "outputs": [
    {
     "data": {
      "text/plain": [
       "'Mensaje: mensaje'"
      ]
     },
     "execution_count": 9,
     "metadata": {},
     "output_type": "execute_result"
    }
   ],
   "source": [
    "imprimir = lambda mensaje : f\"Mensaje: {mensaje}\"\n",
    "imprimir(\"mensaje\")"
   ]
  },
  {
   "cell_type": "code",
   "execution_count": 10,
   "metadata": {},
   "outputs": [
    {
     "data": {
      "text/plain": [
       "9"
      ]
     },
     "execution_count": 10,
     "metadata": {},
     "output_type": "execute_result"
    }
   ],
   "source": [
    "sumar_dos_numeros = lambda x , y : x + y\n",
    "sumar_dos_numeros(4,5)"
   ]
  },
  {
   "cell_type": "code",
   "execution_count": 12,
   "metadata": {},
   "outputs": [
    {
     "name": "stdout",
     "output_type": "stream",
     "text": [
      "<__main__.Nada object at 0x0000028EE3920898>\n",
      "<class '__main__.Nada'>\n"
     ]
    }
   ],
   "source": [
    "class Nada:\n",
    "    pass\n",
    "una_nada = Nada()\n",
    "print(una_nada)\n",
    "print(type(una_nada))"
   ]
  },
  {
   "cell_type": "code",
   "execution_count": 41,
   "metadata": {},
   "outputs": [
    {
     "name": "stdout",
     "output_type": "stream",
     "text": [
      "Empezo el constructor\n",
      "None\n",
      "Rojo\n",
      "1\n",
      "False\n",
      "Color : Rojo\n",
      "Chasis : 1\n"
     ]
    }
   ],
   "source": [
    "class Auto:\n",
    "    color = None\n",
    "#Propiedad privada\n",
    "    __numero_chasis = 1\n",
    "    _emitido = False\n",
    "#constructor\n",
    "#self hace referencia como en otros lenguajes el this, self = this\n",
    "    def __init__(self, color):\n",
    "        print(\"Empezo el constructor\")\n",
    "        print(self.color)\n",
    "        self.color = color\n",
    "#overwrite\n",
    "    def __str__(self):\n",
    "        return f\"Color : {self.color}\\n\" + f\"Chasis : {self.__numero_chasis}\"\n",
    "    \n",
    "    def numero_chasis_impuesto(self):\n",
    "        return self.__calcular_impusto\n",
    "    \n",
    "    def __calcular_impuesto():\n",
    "        return 14 * self.__numero_chasis\n",
    "        \n",
    "nuevo_auto = Auto(\"Rojo\")\n",
    "print(nuevo_auto.color)\n",
    "print(nuevo_auto._Auto__numero_chasis)\n",
    "print(nuevo_auto._emitido)\n",
    "print(nuevo_auto)\n"
   ]
  },
  {
   "cell_type": "code",
   "execution_count": 36,
   "metadata": {},
   "outputs": [
    {
     "name": "stdout",
     "output_type": "stream",
     "text": [
      "Inicializando BMW\n",
      "Empezo el constructor\n",
      "None\n",
      "Color : Blanco\n",
      "Chasis : 1\n"
     ]
    }
   ],
   "source": [
    " # Herencia\n",
    "class BMW(Auto):\n",
    "    def __init__(self, color=\"Blanco\"):\n",
    "        print(\"Inicializando BMW\")\n",
    "        super().__init__(color)\n",
    "carrito = BMW()\n",
    "print(carrito)"
   ]
  },
  {
   "cell_type": "code",
   "execution_count": 54,
   "metadata": {},
   "outputs": [],
   "source": [
    "# Funciones dentro de funciones\n",
    "def calculadora(num_uno, num_dos, operacion = \"suma\"):\n",
    "    def suma():\n",
    "        return num_uno + num_dos\n",
    "    def resta():\n",
    "        return num_uno - num_dos\n",
    "    def multiplicacion():\n",
    "        return num_uno * num_dos\n",
    "    def division():\n",
    "        return num_uno / num_dos\n",
    "# Switch en python\n",
    "# asi no\n",
    "#        opciones.[\"suma\"]\n",
    "#        opciones.[\"resta\"]\n",
    "#        opciones.[\"multiplicacion\"]\n",
    "#        opciones.[\"division\"]\n",
    "\n",
    "# Switch\n",
    "    def opcion_seleccionada():\n",
    "        opciones = {\n",
    "            'suma' : suma(),\n",
    "            'resta' : resta(),\n",
    "            'multiplicacion' : multiplicacion(),\n",
    "            'division' : division(),\n",
    "        }[operacion]\n",
    "        return opciones[operacion]\n",
    "calculadora(6,6)"
   ]
  },
  {
   "cell_type": "code",
   "execution_count": null,
   "metadata": {},
   "outputs": [],
   "source": []
  },
  {
   "cell_type": "code",
   "execution_count": null,
   "metadata": {},
   "outputs": [],
   "source": []
  }
 ],
 "metadata": {
  "kernelspec": {
   "display_name": "Python 3",
   "language": "python",
   "name": "python3"
  },
  "language_info": {
   "codemirror_mode": {
    "name": "ipython",
    "version": 3
   },
   "file_extension": ".py",
   "mimetype": "text/x-python",
   "name": "python",
   "nbconvert_exporter": "python",
   "pygments_lexer": "ipython3",
   "version": "3.7.3"
  }
 },
 "nbformat": 4,
 "nbformat_minor": 2
}
