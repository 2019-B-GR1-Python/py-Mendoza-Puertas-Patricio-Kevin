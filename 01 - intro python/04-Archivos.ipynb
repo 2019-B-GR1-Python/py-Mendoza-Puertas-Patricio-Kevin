{
 "cells": [
  {
   "cell_type": "code",
   "execution_count": 17,
   "metadata": {},
   "outputs": [
    {
     "name": "stdout",
     "output_type": "stream",
     "text": [
      "L1: Buenos dias\n",
      "\n",
      "L1: Buenas tardes\n",
      "\n",
      "L1: Buenas noches\n",
      "\n",
      "L1: Al que madruga Dios le ayuda\n",
      "L1: \n"
     ]
    }
   ],
   "source": [
    "try:\n",
    "    path = \"./frases\"\n",
    "    archivo_abierto = open(path)\n",
    "    linea_uno = archivo_abierto.readline()\n",
    "    print(f\"L1: {linea_uno}\")\n",
    "    linea_dos = archivo_abierto.readline()\n",
    "    print(f\"L1: {linea_dos}\")\n",
    "    linea_tres = archivo_abierto.readline()\n",
    "    print(f\"L1: {linea_tres}\")\n",
    "    linea_cuatro = archivo_abierto.readline()\n",
    "    print(f\"L1: {linea_cuatro}\")\n",
    "    linea_cinco= archivo_abierto.readline()\n",
    "    print(f\"L1: {linea_cinco}\")\n",
    "except Exception as error:\n",
    "    print(\"error\")"
   ]
  },
  {
   "cell_type": "code",
   "execution_count": 25,
   "metadata": {},
   "outputs": [],
   "source": [
    "try:\n",
    "    path = \"./frases\"\n",
    "    archivo_escritura_abierto = open(path,mode=\"a\")\n",
    "    # a => Append\n",
    "    # w => write (Sobre escribe)\n",
    "    archivo_escritura_abierto.write(\"Buenas madrugada \\n\")\n",
    "    archivo_escritura_abierto.writelines( [\"ABC \\n\", \"DEF \\n\"])\n",
    "    archivo_escritura_abierto.close()\n",
    "except Exception as error:\n",
    "    print(\"error\")"
   ]
  },
  {
   "cell_type": "code",
   "execution_count": null,
   "metadata": {},
   "outputs": [],
   "source": []
  }
 ],
 "metadata": {
  "kernelspec": {
   "display_name": "Python 3",
   "language": "python",
   "name": "python3"
  },
  "language_info": {
   "codemirror_mode": {
    "name": "ipython",
    "version": 3
   },
   "file_extension": ".py",
   "mimetype": "text/x-python",
   "name": "python",
   "nbconvert_exporter": "python",
   "pygments_lexer": "ipython3",
   "version": "3.7.3"
  }
 },
 "nbformat": 4,
 "nbformat_minor": 2
}
