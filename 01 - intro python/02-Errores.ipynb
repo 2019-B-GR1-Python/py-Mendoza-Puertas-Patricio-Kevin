{
 "cells": [
  {
   "cell_type": "code",
   "execution_count": 8,
   "metadata": {},
   "outputs": [
    {
     "ename": "SyntaxError",
     "evalue": "invalid syntax (<ipython-input-8-406dec3636c9>, line 4)",
     "output_type": "error",
     "traceback": [
      "\u001b[1;36m  File \u001b[1;32m\"<ipython-input-8-406dec3636c9>\"\u001b[1;36m, line \u001b[1;32m4\u001b[0m\n\u001b[1;33m    3 a = {'b':'b'}\u001b[0m\n\u001b[1;37m      ^\u001b[0m\n\u001b[1;31mSyntaxError\u001b[0m\u001b[1;31m:\u001b[0m invalid syntax\n"
     ]
    }
   ],
   "source": [
    "\n",
    "# khfjdfh hkdjksdh\n",
    "# 0/0\n",
    "# a+b\n",
    "# a = {'b':'b'}\n",
    "# a['c']"
   ]
  },
  {
   "cell_type": "code",
   "execution_count": 15,
   "metadata": {},
   "outputs": [
    {
     "name": "stdout",
     "output_type": "stream",
     "text": [
      "Error agrupado comun\n",
      "No se cae :D\n"
     ]
    }
   ],
   "source": [
    "\n",
    "try:\n",
    "    # a+b\n",
    "    # 0/0\n",
    "    a={'b':'b'}\n",
    "    a['c']\n",
    "except NameError as nameError:\n",
    "    print(\"Name error\")\n",
    "# tupla \"()\" de errores\n",
    "except (ZeroDivisionError, KeyError) as errorCmun:\n",
    "    print(\"Error agrupado comun\")\n",
    "except Exception as error:\n",
    "    print(\"Error\")\n",
    "print(\"No se cae :D\")\n",
    "    "
   ]
  },
  {
   "cell_type": "code",
   "execution_count": null,
   "metadata": {},
   "outputs": [],
   "source": []
  },
  {
   "cell_type": "code",
   "execution_count": null,
   "metadata": {},
   "outputs": [],
   "source": []
  }
 ],
 "metadata": {
  "kernelspec": {
   "display_name": "Python 3",
   "language": "python",
   "name": "python3"
  },
  "language_info": {
   "codemirror_mode": {
    "name": "ipython",
    "version": 3
   },
   "file_extension": ".py",
   "mimetype": "text/x-python",
   "name": "python",
   "nbconvert_exporter": "python",
   "pygments_lexer": "ipython3",
   "version": "3.7.3"
  }
 },
 "nbformat": 4,
 "nbformat_minor": 2
}
