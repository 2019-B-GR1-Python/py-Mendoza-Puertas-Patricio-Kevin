{
 "cells": [
  {
   "cell_type": "code",
   "execution_count": 2,
   "metadata": {},
   "outputs": [
    {
     "name": "stdout",
     "output_type": "stream",
     "text": [
      "Hola Kevin\n"
     ]
    }
   ],
   "source": [
    "\n",
    "# Funciones\n",
    "def hola_mundo(): #None\n",
    "    print(\"Hola Kevin\")\n",
    "hola_mundo()"
   ]
  },
  {
   "cell_type": "code",
   "execution_count": 8,
   "metadata": {},
   "outputs": [
    {
     "name": "stdout",
     "output_type": "stream",
     "text": [
      "suma 3\n"
     ]
    }
   ],
   "source": [
    "# Funciones\n",
    "def sumar_dos_numeros(num_uno, num_dos): #Argumentos Requeridos\n",
    "    return num_uno + num_dos\n",
    "suma = sumar_dos_numeros(1,2)\n",
    "print (f\"suma {suma}\")"
   ]
  },
  {
   "cell_type": "code",
   "execution_count": 12,
   "metadata": {},
   "outputs": [
    {
     "name": "stdout",
     "output_type": "stream",
     "text": [
      "EPN\n"
     ]
    }
   ],
   "source": [
    "def imprimir_universidades(nombre=\"EPN\"): # Argumentos Opcionales\n",
    "    print(f\"{nombre}\")\n",
    "imprimir_universidades()\n"
   ]
  },
  {
   "cell_type": "code",
   "execution_count": 21,
   "metadata": {},
   "outputs": [
    {
     "name": "stdout",
     "output_type": "stream",
     "text": [
      "Color:Blanco\n",
      "Placa:abc-123\n",
      "Caballos de fuerza :2000\n",
      "Año:1970\n",
      "Color:Amazul\n",
      "Placa:def-456\n",
      "Caballos de fuerza :3500\n",
      "Año:2005\n",
      "Color:cafe\n",
      "Placa:mns-789\n",
      "Caballos de fuerza :2003\n",
      "Año:2006\n"
     ]
    }
   ],
   "source": [
    "def imprimir_carro(color, placa, hp, anio=\"\"):\n",
    "    print(f\"Color:{color}\")\n",
    "    print(f\"Placa:{placa}\")\n",
    "    print(f\"Caballos de fuerza :{hp}\")\n",
    "    print(f\"Año:{anio}\")\n",
    "\n",
    "# Positional Parameters\n",
    "imprimir_carro(\"Blanco\",\"abc-123\",\"2000\",\"1970\")\n",
    "# Named Parameters\n",
    "imprimir_carro(anio=2005,\n",
    "              color=\"Amazul\",\n",
    "              placa=\"def-456\",\n",
    "              hp=3500)\n",
    "\n",
    "\n",
    "imprimir_carro (\"cafe\",\"mns-789\",hp=2003, anio=2006)\n",
    "\n",
    "# REGLAS\n",
    "# 1) Parametros requeridos 1ero, luego los opcionales\n",
    "# 2) Enviar SIEMPRE parametros rqueridos\n",
    "# 3) Si ya se envia un parametro nombrado,\n",
    "#    los parametros que falten de enviarse \n",
    "#    van a tener que ser nombrados\n"
   ]
  },
  {
   "cell_type": "code",
   "execution_count": 31,
   "metadata": {},
   "outputs": [
    {
     "data": {
      "text/plain": [
       "107"
      ]
     },
     "execution_count": 31,
     "metadata": {},
     "output_type": "execute_result"
    }
   ],
   "source": [
    "\n",
    "# Parametros infinitos\n",
    "def sumar_numeros (primer_numero, *numeros): #parametros infinitos\n",
    "    longitud = len(numeros)\n",
    "    if (longitud == 0):\n",
    "        return primer_numero\n",
    "    else:\n",
    "        suma=primer_numero\n",
    "        for numero in numeros:\n",
    "            suma = suma + numero\n",
    "        return suma\n",
    "            \n",
    "sumar_numeros(1,2,4,100)"
   ]
  },
  {
   "cell_type": "code",
   "execution_count": 40,
   "metadata": {},
   "outputs": [
    {
     "name": "stdout",
     "output_type": "stream",
     "text": [
      "<class 'dict'>\n",
      "{'tiempo_espera': 10, 'a': 'sjhsvjh'}\n"
     ]
    }
   ],
   "source": [
    "\n",
    "def imprimir_configuracion (nombre, valor=10, *valores_carga, **key_word_argumns):\n",
    "    print(type(key_word_argumns))\n",
    "    print(key_word_argumns)\n",
    "imprimir_configuracion(nombre =\"config_1\", \n",
    "                       valor=20,\n",
    "                       tiempo_espera = 10, \n",
    "                       a=\"sjhsvjh\")\n"
   ]
  },
  {
   "cell_type": "code",
   "execution_count": null,
   "metadata": {},
   "outputs": [],
   "source": []
  }
 ],
 "metadata": {
  "kernelspec": {
   "display_name": "Python 3",
   "language": "python",
   "name": "python3"
  },
  "language_info": {
   "codemirror_mode": {
    "name": "ipython",
    "version": 3
   },
   "file_extension": ".py",
   "mimetype": "text/x-python",
   "name": "python",
   "nbconvert_exporter": "python",
   "pygments_lexer": "ipython3",
   "version": "3.7.3"
  }
 },
 "nbformat": 4,
 "nbformat_minor": 2
}
